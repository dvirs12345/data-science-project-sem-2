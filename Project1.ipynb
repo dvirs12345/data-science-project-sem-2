{
 "cells": [
  {
   "cell_type": "code",
   "execution_count": 1,
   "metadata": {},
   "outputs": [],
   "source": [
    "import pandas as pd\n",
    "import matplotlib.pyplot as plt\n",
    "import sklearn\n",
    "import seaborn as sns\n",
    "import glob\n",
    "import os\n",
    "import re\n",
    "import warnings\n",
    "from sklearn.ensemble import AdaBoostClassifier\n",
    "from sklearn.metrics import confusion_matrix\n",
    "from sklearn.metrics import f1_score\n",
    "from sklearn.decomposition import PCA\n",
    "from sklearn.ensemble import RandomForestClassifier\n",
    "from sklearn.dummy import DummyClassifier\n",
    "from scipy import stats\n",
    "import sklearn\n",
    "import sklearn.preprocessing\n",
    "warnings.filterwarnings(\"ignore\")"
   ]
  },
  {
   "cell_type": "code",
   "execution_count": 2,
   "metadata": {},
   "outputs": [],
   "source": [
    "right_hand = pd.read_csv('HandRight.csv')\n",
    "right_hand = right_hand.loc[right_hand['Time']-right_hand['Time'][0]>7]\n",
    "def rename(q):\n",
    "    q.drop([\" # hands\",\" Hand Type\",\"Time\"],axis=1, inplace=True)\n",
    "    return q.rename(columns={\" Position X\": \" Position X1\",\n",
    "                             \" Position Y\": \" Position Y1\",\n",
    "                             \" Position Z\":\" Position Z1\",\n",
    "                             \" Velocity X\":\" Velocity X1\",\n",
    "                             \" Velocity Y\":\" Velocity Y1\",\n",
    "                             \" Velocity Z\":\" Velocity Z1\",\n",
    "                             \" Pitch\":\" Pitch1\",\n",
    "                             \" Roll\":\" Roll1\",\n",
    "                             \" Yaw\":\" Yaw1\",\n",
    "                             \" Wrist Pos X\":\" Wrist Pos X1\",\n",
    "                             \" Wrist Pos Y\":\" Wrist Pos Y1\",\n",
    "                             \" Wrist Pos Z\":\" Wrist Pos Z1\",\n",
    "                             \" Elbow pos X\":\" Elbow pos X1\",\n",
    "                             \" Elbow Pos Y\":\" Elbow Pos Y1\",\n",
    "                             \" Elbow Pos Z\":\" Elbow Pos Z1\",\n",
    "                             \" Grab Strenth\":\" Grab Strenth1\",\n",
    "                             \" Grab Angle\":\" Grab Angle1\",\n",
    "                             \" Pinch Strength\":\" Pinch Strength1\"})\n",
    "right_hand = rename(right_hand)"
   ]
  },
  {
   "cell_type": "markdown",
   "metadata": {},
   "source": [
    "# Orgenizing the data for training"
   ]
  },
  {
   "cell_type": "code",
   "execution_count": 3,
   "metadata": {
    "scrolled": true
   },
   "outputs": [],
   "source": [
    "names = glob.glob('datasets\\Training\\*')\n",
    "training_data  = pd.DataFrame(data=pd.read_csv(glob.glob(str(names[0])+\"\\*\")[-1]))\n",
    "training_data = training_data.loc[training_data['Time']-training_data['Time'][0]>7]\n",
    "alone_data = pd.concat([training_data,right_hand],axis=1)\n",
    "alone_data['Type'] = str(re.search(r'[a-zA-Z].*[0-9](.*)',glob.glob(str(names[0])+\"\\*\")[-1]).group(1)[:-4])\n",
    "\n",
    "training_data  = pd.DataFrame(data=pd.read_csv(glob.glob(str(names[0])+\"\\*\")[-2]))\n",
    "csv_t = pd.read_csv(glob.glob(str(names[0])+\"\\*\")[-2])\n",
    "csv_t = csv_t.loc[csv_t['Time']-csv_t['Time'][0]>7]\n",
    "temp1 = csv_t.iloc[::2, :]\n",
    "temp2 = csv_t.iloc[1::2, :]\n",
    "csv_t = pd.DataFrame(pd.merge(temp1,temp2, how='left',on=' Frame ID'))\n",
    "csv_t['Type'] =  str(re.search(r'[a-zA-Z].*[0-9](.*)',glob.glob(str(names[0])+\"\\*\")[-2]).group(1)[:-4])\n",
    "training_data = csv_t\n",
    "\n",
    "csv_q = pd.read_csv(glob.glob(str(names[0])+\"\\*\")[-3])\n",
    "csv_q = csv_q.loc[csv_q['Time']-csv_q['Time'][0]>7]\n",
    "temp1 = csv_q.iloc[::2, :]\n",
    "temp2 = csv_q.iloc[1::2, :]\n",
    "csv_q = pd.DataFrame(pd.merge(temp1,temp2, how='left',on=' Frame ID'))\n",
    "csv_q['Type'] =  str(re.search(r'[a-zA-Z].*[0-9](.*)',glob.glob(str(names[0])+\"\\*\")[-3]).group(1)[:-4])\n",
    "training_data = pd.concat([training_data, csv_q],sort=False)\n",
    "\n",
    "\n",
    "for i in list(glob.glob('datasets\\Training\\*')):\n",
    "    names1 = glob.glob(str(i)+\"\\*\") # List of names of all participants in the experiment.\n",
    "    \n",
    "    csv1 = pd.read_csv(names1[-1])\n",
    "    csv1 = csv1.loc[csv1['Time']-csv1['Time'][0]>7]\n",
    "    \n",
    "    if 'Alone' in names1[-1]:\n",
    "        csv1['Type'] = str(re.search(r'[a-zA-Z].*[0-9](.*)',names1[-1]).group(1)[:-4])\n",
    "        temp = pd.DataFrame(pd.merge(csv1,right_hand, how='left',on=' Frame ID'))\n",
    "        alone_data.drop([\" Frame ID\"],axis=1, inplace=True)\n",
    "        alone_data = pd.concat([alone_data,temp])\n",
    "    else:\n",
    "        temp1 = csv1.iloc[::2, :]\n",
    "        temp2 = csv1.iloc[1::2, :]\n",
    "        # csv1 = pd.concat([temp1,temp2],axis=1)\n",
    "        csv1 = pd.DataFrame(pd.merge(temp1,temp2, how='left',on=' Frame ID'))\n",
    "        csv1['Type'] = str(re.search(r'[a-zA-Z].*[0-9](.*)',names1[-1]).group(1)[:-4])\n",
    "        training_data = pd.concat([training_data, csv1],sort=False)\n",
    "        \n",
    "        \n",
    "    csv2 = pd.read_csv(names1[-2])\n",
    "    csv2 = csv2.loc[csv2['Time']-csv2['Time'][0]>7]\n",
    "    if 'Alone' in names1[-2]:\n",
    "        csv2['Type'] = str(re.search(r'[a-zA-Z].*[0-9](.*)',names1[-2]).group(1)[:-4])\n",
    "        temp = pd.DataFrame(pd.merge(csv2,right_hand, how='left',on=' Frame ID'))\n",
    "        alone_data = pd.concat([alone_data,temp])\n",
    "    else: \n",
    "        temp1 = csv2.iloc[::2, :]\n",
    "        temp2 = csv2.iloc[1::2, :]\n",
    "        csv2 = pd.DataFrame(pd.merge(temp1,temp2, how='left',on=' Frame ID'))\n",
    "        csv2['Type'] = str(re.search(r'[a-zA-Z].*[0-9](.*)',names1[-2]).group(1)[:-4])\n",
    "        training_data = pd.concat([training_data, csv2],sort=False)\n",
    "    \n",
    "    \n",
    "    csv3 = pd.read_csv(names1[-3])\n",
    "    csv3 = csv3.loc[csv3['Time']-csv3['Time'][0]>7]\n",
    "    if 'Alone' in names1[-3]:\n",
    "        csv3['Type'] = str(re.search(r'[a-zA-Z].*[0-9](.*)',names1[-3]).group(1)[:-4])\n",
    "        temp = pd.DataFrame(pd.merge(csv3,right_hand, how='left',on=' Frame ID'))\n",
    "        alone_data = pd.concat([alone_data,temp])\n",
    "    else:\n",
    "        temp1 = csv3.iloc[::2, :]\n",
    "        temp2 = csv3.iloc[1::2, :]\n",
    "        csv3 = pd.DataFrame(pd.merge(temp1,temp2, how='left',on=' Frame ID'))\n",
    "        csv3['Type'] = str(re.search(r'[a-zA-Z].*[0-9](.*)',names1[-3]).group(1)[:-4])\n",
    "        training_data = pd.concat([training_data, csv3],sort=False)\n",
    "    \n",
    "\n",
    "alone_data.drop([\" # hands\",\" Hand Type\",\"Time\",\" Frame ID\"], axis=1,inplace=True)\n",
    "# print(training_data)\n",
    "training_data = training_data.rename(columns={\" Position X_x\": \" Position X\",\n",
    "                             \" Position Y_x\": \" Position Y\",\n",
    "                             \" Position Z_x\":\" Position Z\",\n",
    "                             \" Velocity X_x\":\" Velocity X\",\n",
    "                             \" Velocity Y_x\":\" Velocity Y\",\n",
    "                             \" Velocity Z_x\":\" Velocity Z\",\n",
    "                             \" Pitch_x\":\" Pitch\",\n",
    "                             \" Roll_x\":\" Roll\",\n",
    "                             \" Yaw_x\":\" Yaw\",\n",
    "                             \" Wrist Pos X_x\":\" Wrist Pos X\",\n",
    "                             \" Wrist Pos Y_x\":\" Wrist Pos Y\",\n",
    "                             \" Wrist Pos Z_x\":\" Wrist Pos Z\",\n",
    "                             \" Elbow pos X_x\":\" Elbow pos X\",\n",
    "                             \" Elbow Pos Y_x\":\" Elbow Pos Y\",\n",
    "                             \" Elbow Pos Z_x\":\" Elbow Pos Z\",\n",
    "                             \" Grab Strenth_x\":\" Grab Strenth\",\n",
    "                             \" Grab Angle_x\":\" Grab Angle\",\n",
    "                             \" Pinch Strength_x\":\" Pinch Strength\",\n",
    "                             \n",
    "                             \" Position X_y\": \" Position X1\",\n",
    "                             \" Position Y_y\": \" Position Y1\",\n",
    "                             \" Position Z_y\":\" Position Z1\",\n",
    "                             \" Velocity X_y\":\" Velocity X1\",\n",
    "                             \" Velocity Y_y\":\" Velocity Y1\",\n",
    "                             \" Velocity Z_y\":\" Velocity Z1\",\n",
    "                             \" Pitch_y\":\" Pitch1\",\n",
    "                             \" Roll_y\":\" Roll1\",\n",
    "                             \" Yaw_y\":\" Yaw1\",\n",
    "                             \" Wrist Pos X_y\":\" Wrist Pos X1\",\n",
    "                             \" Wrist Pos Y_y\":\" Wrist Pos Y1\",\n",
    "                             \" Wrist Pos Z_y\":\" Wrist Pos Z1\",\n",
    "                             \" Elbow pos X_y\":\" Elbow pos X1\",\n",
    "                             \" Elbow Pos Y_y\":\" Elbow Pos Y1\",\n",
    "                             \" Elbow Pos Z_y\":\" Elbow Pos Z1\",\n",
    "                             \" Grab Strenth_y\":\" Grab Strenth1\",\n",
    "                             \" Grab Angle_y\":\" Grab Angle1\",\n",
    "                             \" Pinch Strength_y\":\" Pinch Strength1\"})\n",
    "training_data = pd.concat([training_data,alone_data])"
   ]
  },
  {
   "cell_type": "code",
   "execution_count": 4,
   "metadata": {},
   "outputs": [
    {
     "data": {
      "text/plain": [
       "<matplotlib.axes._subplots.AxesSubplot at 0x1401137fba8>"
      ]
     },
     "execution_count": 4,
     "metadata": {},
     "output_type": "execute_result"
    },
    {
     "data": {
      "image/png": "[encoded data removed]",
      "text/plain": [
       "<Figure size 432x288 with 1 Axes>"
      ]
     },
     "metadata": {
      "needs_background": "light"
     },
     "output_type": "display_data"
    }
   ],
   "source": [
    "training_data.groupby('Type')[' Yaw'].count().plot(kind='bar')"
   ]
  },
  {
   "cell_type": "markdown",
   "metadata": {},
   "source": [
    "By the graph above we can see that a null classefier would have an accuracy of about 33%"
   ]
  },
  {
   "cell_type": "code",
   "execution_count": 5,
   "metadata": {},
   "outputs": [],
   "source": [
    "training_data.drop([\" # hands_x\",' # hands_y',' Frame ID',' Hand Type_x',' Hand Type_y','Time_x', 'Time_y'],axis=1, inplace = True)\n",
    "training_data['Type'].replace({'Alone':1,'Spontan':2,'Sync':3},inplace=True)\n",
    "training_data = training_data.dropna(how = 'any')"
   ]
  },
  {
   "cell_type": "markdown",
   "metadata": {},
   "source": [
    "# Orgenizing the data for testing"
   ]
  },
  {
   "cell_type": "code",
   "execution_count": 6,
   "metadata": {},
   "outputs": [],
   "source": [
    "names = glob.glob('datasets\\Validation\\*')\n",
    "testing_data  = pd.DataFrame(data=pd.read_csv(glob.glob(str(names[0])+\"\\*\")[-1]))\n",
    "testing_data = testing_data.loc[testing_data['Time']-testing_data['Time'][0]>7]\n",
    "alone_data = pd.concat([testing_data,right_hand],axis=1)\n",
    "alone_data['Type'] = str(re.search(r'[a-zA-Z].*[0-9](.*)',glob.glob(str(names[0])+\"\\*\")[-1]).group(1)[:-4])\n",
    "\n",
    "testing_data  = pd.DataFrame(data=pd.read_csv(glob.glob(str(names[0])+\"\\*\")[-2]))\n",
    "csv_t = pd.read_csv(glob.glob(str(names[0])+\"\\*\")[-2])\n",
    "csv_t = csv_t.loc[csv_t['Time']-csv_t['Time'][0]>7]\n",
    "temp1 = csv_t.iloc[::2, :]\n",
    "temp2 = csv_t.iloc[1::2, :]\n",
    "csv_t = pd.DataFrame(pd.merge(temp1,temp2, how='left',on=' Frame ID'))\n",
    "csv_t['Type'] =  str(re.search(r'[a-zA-Z].*[0-9](.*)',glob.glob(str(names[0])+\"\\*\")[-2]).group(1)[:-4])\n",
    "testing_data = csv_t\n",
    "\n",
    "csv_q = pd.read_csv(glob.glob(str(names[0])+\"\\*\")[-3])\n",
    "csv_q = csv_q.loc[csv_q['Time']-csv_q['Time'][0]>7]\n",
    "temp1 = csv_q.iloc[::2, :]\n",
    "temp2 = csv_q.iloc[1::2, :]\n",
    "csv_q = pd.DataFrame(pd.merge(temp1,temp2, how='left',on=' Frame ID'))\n",
    "csv_q['Type'] =  str(re.search(r'[a-zA-Z].*[0-9](.*)',glob.glob(str(names[0])+\"\\*\")[-3]).group(1)[:-4])\n",
    "testing_data = pd.concat([testing_data, csv_q],sort=False)\n",
    "for i in list(glob.glob('datasets\\Validation\\*')):\n",
    "    names1 = glob.glob(str(i)+\"\\*\") # List of names of all participants in the experiment.\n",
    "    \n",
    "    csv1 = pd.read_csv(names1[-1])\n",
    "    csv1 = csv1.loc[csv1['Time']-csv1['Time'][0]>7]\n",
    "    \n",
    "    if 'Alone' in names1[-1]:\n",
    "        csv1['Type'] = str(re.search(r'[a-zA-Z].*[0-9](.*)',names1[-1]).group(1)[:-4])\n",
    "        temp = pd.DataFrame(pd.merge(csv1,right_hand, how='left',on=' Frame ID'))\n",
    "        alone_data.drop([\" Frame ID\"],axis=1, inplace=True)\n",
    "        alone_data = pd.concat([alone_data,temp])\n",
    "    else:\n",
    "        temp1 = csv1.iloc[::2, :]\n",
    "        temp2 = csv1.iloc[1::2, :]\n",
    "        csv1 = pd.DataFrame(pd.merge(temp1,temp2, how='left',on=' Frame ID'))\n",
    "        csv1['Type'] = str(re.search(r'[a-zA-Z].*[0-9](.*)',names1[-1]).group(1)[:-4])\n",
    "        testing_data = pd.concat([testing_data, csv1],sort=False)\n",
    "        \n",
    "        \n",
    "    csv2 = pd.read_csv(names1[-2])\n",
    "    csv2 = csv2.loc[csv2['Time']-csv2['Time'][0]>7]\n",
    "    if 'Alone' in names1[-2]:\n",
    "        csv2['Type'] = str(re.search(r'[a-zA-Z].*[0-9](.*)',names1[-2]).group(1)[:-4])\n",
    "        temp = pd.DataFrame(pd.merge(csv2,right_hand, how='left',on=' Frame ID'))\n",
    "        alone_data = pd.concat([alone_data,temp])\n",
    "    else: \n",
    "        temp1 = csv2.iloc[::2, :]\n",
    "        temp2 = csv2.iloc[1::2, :]\n",
    "        csv2 = pd.DataFrame(pd.merge(temp1,temp2, how='left',on=' Frame ID'))\n",
    "        csv2['Type'] = str(re.search(r'[a-zA-Z].*[0-9](.*)',names1[-2]).group(1)[:-4])\n",
    "        testing_data = pd.concat([testing_data, csv2],sort=False)\n",
    "    \n",
    "    \n",
    "    csv3 = pd.read_csv(names1[-3])\n",
    "    csv3 = csv3.loc[csv3['Time']-csv3['Time'][0]>7]\n",
    "    \n",
    "    if 'Alone' in names1[-3]:\n",
    "        csv3['Type'] = str(re.search(r'[a-zA-Z].*[0-9](.*)',names1[-3]).group(1)[:-4])\n",
    "        temp = pd.DataFrame(pd.merge(csv3,right_hand, how='left',on=' Frame ID'))\n",
    "        alone_data = pd.concat([alone_data,temp])\n",
    "    else:\n",
    "        temp1 = csv3.iloc[::2, :]\n",
    "        temp2 = csv3.iloc[1::2, :]\n",
    "        csv3 = pd.DataFrame(pd.merge(temp1,temp2, how='left',on=' Frame ID'))\n",
    "        csv3['Type'] = str(re.search(r'[a-zA-Z].*[0-9](.*)',names1[-3]).group(1)[:-4])\n",
    "        testing_data = pd.concat([testing_data, csv3],sort=False)\n",
    "\n",
    "\n",
    "alone_data.drop([\" # hands\",\" Hand Type\",\"Time\",\" Frame ID\"], axis=1,inplace=True)\n",
    "testing_data.drop([\"Time_x\",\" Frame ID\",\" Hand Type_x\",\" # hands_x\",\"Time_y\",\" Hand Type_y\",\" # hands_y\"],axis=1,inplace=True)\n",
    "testing_data = testing_data.rename(columns={\" Position X_x\": \" Position X\",\n",
    "                             \" Position Y_x\": \" Position Y\",\n",
    "                             \" Position Z_x\":\" Position Z\",\n",
    "                             \" Velocity X_x\":\" Velocity X\",\n",
    "                             \" Velocity Y_x\":\" Velocity Y\",\n",
    "                             \" Velocity Z_x\":\" Velocity Z\",\n",
    "                             \" Pitch_x\":\" Pitch\",\n",
    "                             \" Roll_x\":\" Roll\",\n",
    "                             \" Yaw_x\":\" Yaw\",\n",
    "                             \" Wrist Pos X_x\":\" Wrist Pos X\",\n",
    "                             \" Wrist Pos Y_x\":\" Wrist Pos Y\",\n",
    "                             \" Wrist Pos Z_x\":\" Wrist Pos Z\",\n",
    "                             \" Elbow pos X_x\":\" Elbow pos X\",\n",
    "                             \" Elbow Pos Y_x\":\" Elbow Pos Y\",\n",
    "                             \" Elbow Pos Z_x\":\" Elbow Pos Z\",\n",
    "                             \" Grab Strenth_x\":\" Grab Strenth\",\n",
    "                             \" Grab Angle_x\":\" Grab Angle\",\n",
    "                             \" Pinch Strength_x\":\" Pinch Strength\",\n",
    "                             \n",
    "                             \" Position X_y\": \" Position X1\",\n",
    "                             \" Position Y_y\": \" Position Y1\",\n",
    "                             \" Position Z_y\":\" Position Z1\",\n",
    "                             \" Velocity X_y\":\" Velocity X1\",\n",
    "                             \" Velocity Y_y\":\" Velocity Y1\",\n",
    "                             \" Velocity Z_y\":\" Velocity Z1\",\n",
    "                             \" Pitch_y\":\" Pitch1\",\n",
    "                             \" Roll_y\":\" Roll1\",\n",
    "                             \" Yaw_y\":\" Yaw1\",\n",
    "                             \" Wrist Pos X_y\":\" Wrist Pos X1\",\n",
    "                             \" Wrist Pos Y_y\":\" Wrist Pos Y1\",\n",
    "                             \" Wrist Pos Z_y\":\" Wrist Pos Z1\",\n",
    "                             \" Elbow pos X_y\":\" Elbow pos X1\",\n",
    "                             \" Elbow Pos Y_y\":\" Elbow Pos Y1\",\n",
    "                             \" Elbow Pos Z_y\":\" Elbow Pos Z1\",\n",
    "                             \" Grab Strenth_y\":\" Grab Strenth1\",\n",
    "                             \" Grab Angle_y\":\" Grab Angle1\",\n",
    "                             \" Pinch Strength_y\":\" Pinch Strength1\"})\n",
    "testing_data = pd.concat([testing_data,alone_data])\n",
    "testing_data = testing_data.dropna(how = 'any')\n",
    "testing_data['Type'].replace({'Alone':1,'Spontan':2,'Sync':3},inplace=True)"
   ]
  },
  {
   "cell_type": "code",
   "execution_count": 7,
   "metadata": {},
   "outputs": [],
   "source": [
    "X_train = training_data.loc[:, training_data.columns != 'Type']\n",
    "y_train = training_data[[\"Type\"]]\n",
    "X_test = testing_data.loc[:, testing_data.columns != 'Type']\n",
    "y_test = testing_data[[\"Type\"]]\n",
    "X = pd.concat([X_train,X_test],sort=False)"
   ]
  },
  {
   "cell_type": "code",
   "execution_count": 8,
   "metadata": {},
   "outputs": [
    {
     "name": "stdout",
     "output_type": "stream",
     "text": [
      "[0.54794818 0.11743803 0.07973622 0.04860914 0.0349851  0.03254595\n",
      " 0.02897448 0.02776472 0.01601006 0.01523925 0.01206009 0.01051309\n",
      " 0.00993479 0.00508586 0.00412934]\n"
     ]
    }
   ],
   "source": [
    "pca = PCA(n_components=15)\n",
    "X_train = pca.fit_transform(X_train)\n",
    "X_test = pca.transform(X_test)\n",
    "fit = pca.fit(X)\n",
    "print(fit.explained_variance_ratio_)"
   ]
  },
  {
   "cell_type": "code",
   "execution_count": 9,
   "metadata": {},
   "outputs": [
    {
     "name": "stdout",
     "output_type": "stream",
     "text": [
      "\n",
      "Accuracy Of AdaBoost For The Given Dataset :  0.6319319381481712\n",
      "\n",
      "F-score wighted :  0.6354599089187998\n"
     ]
    }
   ],
   "source": [
    "adaboost = AdaBoostClassifier(n_estimators=100, base_estimator= None,learning_rate=1, random_state = 1)\n",
    "# y_train=y_train.astype('int')\n",
    "adaboost.fit(X_train,y_train)\n",
    "y_pred = adaboost.predict(X_test)\n",
    "cm = confusion_matrix(y_test,y_pred)\n",
    "accuracy = float(cm.diagonal().sum())/len(y_test)\n",
    "print(\"\\nAccuracy Of AdaBoost For The Given Dataset : \", accuracy)\n",
    "print(\"\\nF-score wighted : \", f1_score(y_test,y_pred,average='weighted'))"
   ]
  },
  {
   "cell_type": "code",
   "execution_count": 10,
   "metadata": {},
   "outputs": [
    {
     "name": "stdout",
     "output_type": "stream",
     "text": [
      "Accuracy of logistic regression classifier on test set: 0.61\n"
     ]
    }
   ],
   "source": [
    "logreg = sklearn.linear_model.LogisticRegression()\n",
    "logreg.fit(X_train, y_train)\n",
    "y_pred = logreg.predict(X_test)\n",
    "print('Accuracy of logistic regression classifier on test set: {:.2f}'.format(logreg.score(X_test, y_test)))"
   ]
  },
  {
   "cell_type": "code",
   "execution_count": 11,
   "metadata": {},
   "outputs": [
    {
     "name": "stdout",
     "output_type": "stream",
     "text": [
      "score:  0.6487300503011861\n"
     ]
    }
   ],
   "source": [
    "dtc = sklearn.tree.DecisionTreeClassifier()\n",
    "dtc.fit(X_train, y_train)\n",
    "y_pred = dtc.predict(X_test)\n",
    "my_score = sklearn.metrics.accuracy_score(y_test, y_pred)\n",
    "print(\"score: \",my_score)"
   ]
  },
  {
   "cell_type": "code",
   "execution_count": 12,
   "metadata": {},
   "outputs": [
    {
     "name": "stdout",
     "output_type": "stream",
     "text": [
      "Accuracy : 0.600074520275725\n"
     ]
    }
   ],
   "source": [
    "my_scaler = sklearn.preprocessing.StandardScaler()\n",
    "my_scaler.fit(X_train)\n",
    "X_train = my_scaler.transform(X_train)\n",
    "X_test = my_scaler.transform(X_test)\n",
    "classifier = sklearn.neighbors.KNeighborsClassifier(n_neighbors=7)\n",
    "classifier.fit(X_train, y_train)\n",
    "y_pred = classifier.predict(X_test)\n",
    "score = sklearn.metrics.accuracy_score(y_test, y_pred)\n",
    "print('Accuracy :', score)"
   ]
  }
 ],
 "metadata": {
  "kernelspec": {
   "display_name": "Python 3",
   "language": "python",
   "name": "python3"
  },
  "language_info": {
   "codemirror_mode": {
    "name": "ipython",
    "version": 3
   },
   "file_extension": ".py",
   "mimetype": "text/x-python",
   "name": "python",
   "nbconvert_exporter": "python",
   "pygments_lexer": "ipython3",
   "version": "3.7.1"
  }
 },
 "nbformat": 4,
 "nbformat_minor": 2
}
