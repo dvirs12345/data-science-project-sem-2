{
 "cells": [
  {
   "cell_type": "code",
   "execution_count": 1,
   "metadata": {},
   "outputs": [],
   "source": [
    "import pandas as pd\n",
    "import matplotlib.pyplot as plt\n",
    "import sklearn\n",
    "import seaborn as sns\n",
    "import glob\n",
    "import os\n",
    "import re\n",
    "import warnings\n",
    "warnings.filterwarnings(\"ignore\")"
   ]
  },
  {
   "cell_type": "code",
   "execution_count": 2,
   "metadata": {},
   "outputs": [
    {
     "name": "stdout",
     "output_type": "stream",
     "text": [
      "['datasets\\\\Training\\\\Evyatar Cohen\\\\Evyatar636771050011691836Spontan.csv', 'datasets\\\\Training\\\\Evyatar Cohen\\\\Evyatar636771050902934708Sync.csv', 'datasets\\\\Training\\\\Evyatar Cohen\\\\Evyatar636771051823980826Alone.csv', 'datasets\\\\Training\\\\Evyatar Cohen\\\\Evyatar636771052727603804Spontan.csv', 'datasets\\\\Training\\\\Evyatar Cohen\\\\Evyatar636771053639929594Sync.csv', 'datasets\\\\Training\\\\Evyatar Cohen\\\\Evyatar636771054555711409Alone.csv', 'datasets\\\\Training\\\\Nofar Social_Nuero\\\\Nofar636759792183061005Spontan.csv', 'datasets\\\\Training\\\\Nofar Social_Nuero\\\\Nofar636759793193137655Alone.csv', 'datasets\\\\Training\\\\Nofar Social_Nuero\\\\Nofar636759794200223541Sync.csv', 'datasets\\\\Training\\\\Nofar Social_Nuero\\\\Nofar636759795182793299Spontan.csv', 'datasets\\\\Training\\\\Nofar Social_Nuero\\\\Nofar636759796290435160Alone.csv', 'datasets\\\\Training\\\\Nofar Social_Nuero\\\\Nofar636759797397919664Sync.csv', 'datasets\\\\Training\\\\Oriya Social_Nuero\\\\Oriya636759799659227614Spontan.csv', 'datasets\\\\Training\\\\Oriya Social_Nuero\\\\Oriya636759800632839612Alone.csv', 'datasets\\\\Training\\\\Oriya Social_Nuero\\\\Oriya636759801991504932Alone.csv', 'datasets\\\\Training\\\\Oriya Social_Nuero\\\\Oriya636759803164759865Sync.csv', 'datasets\\\\Training\\\\Oriya Social_Nuero\\\\Oriya636759804404113837Spontan.csv', 'datasets\\\\Training\\\\Oriya Social_Nuero\\\\Oriya636759805268396661Alone.csv', 'datasets\\\\Training\\\\Oriya Social_Nuero\\\\Oriya636759806131350399Sync.csv', 'datasets\\\\Training\\\\Orya Kalmanovitz\\\\OryaB636771080972009775Spontan.csv', 'datasets\\\\Training\\\\Orya Kalmanovitz\\\\OryaB636771081904052624Sync.csv', 'datasets\\\\Training\\\\Orya Kalmanovitz\\\\OryaB636771082736601528Alone.csv', 'datasets\\\\Training\\\\Orya Kalmanovitz\\\\OryaB636771083605535985Spontan.csv', 'datasets\\\\Training\\\\Orya Kalmanovitz\\\\OryaB636771084494502229Sync.csv', 'datasets\\\\Training\\\\Revital Marbel\\\\Revital636770953887274261Spontan.csv', 'datasets\\\\Training\\\\Revital Marbel\\\\Revital636770954952844556Sync.csv', 'datasets\\\\Training\\\\Revital Marbel\\\\Revital636770955999435879Alone.csv', 'datasets\\\\Training\\\\Revital Marbel\\\\Revital636770957038873193Spontan.csv', 'datasets\\\\Training\\\\Revital Marbel\\\\Revital636770957894370062Sync.csv', 'datasets\\\\Training\\\\Shahar Terner\\\\Sachar636771045591258071Spontan.csv', 'datasets\\\\Training\\\\Shahar Terner\\\\Sachar636771046527112972Sync.csv', 'datasets\\\\Training\\\\Shahar Terner\\\\Sachar636771047408504303Alone.csv', 'datasets\\\\Training\\\\Shelly Social_Nuero\\\\Shelly636759784020992272Spontan.csv', 'datasets\\\\Training\\\\Shelly Social_Nuero\\\\Shelly636759785254377607Alone.csv', 'datasets\\\\Training\\\\Shelly Social_Nuero\\\\Shelly636759786470414550Sync.csv', 'datasets\\\\Training\\\\Shelly Social_Nuero\\\\Shelly636759787508979097Spontan.csv', 'datasets\\\\Training\\\\Shelly Social_Nuero\\\\Shelly636759788383205274Alone.csv', 'datasets\\\\Training\\\\Shelly Social_Nuero\\\\Shelly636759789526313406Sync.csv', 'datasets\\\\Training\\\\Yael Hagai\\\\Yael636771059544754823Spontan.csv', 'datasets\\\\Training\\\\Yael Hagai\\\\Yael636771060699529085Sync.csv', 'datasets\\\\Training\\\\Yael Hagai\\\\Yael636771061659067649Alone.csv', 'datasets\\\\Training\\\\Yoel Raz\\\\Yoel636760918326775654Spontan.csv', 'datasets\\\\Training\\\\Yoel Raz\\\\Yoel636760919215510154Alone.csv', 'datasets\\\\Training\\\\Yoel Raz\\\\Yoel636760920526441748Sync.csv', 'datasets\\\\Training\\\\Yoel Raz\\\\Yoel636760921663075813Spontan.csv', 'datasets\\\\Training\\\\Yoel Raz\\\\Yoel636760922573364655Alone.csv', 'datasets\\\\Training\\\\Yoel Raz\\\\Yoel636760923490742912Sync.csv']\n"
     ]
    }
   ],
   "source": [
    "names = glob.glob('datasets\\Training\\*\\*')\n",
    "print(names)\n",
    "training_data  = pd.DataFrame(data=pd.read_csv(names[0]))\n",
    "del names[0]\n",
    "for i in names:\n",
    "    new_df = pd.read_csv(i)\n",
    "    head, tail = os.path.split(i)\n",
    "    new_df['name'] = re.search(r'^[A-z]*',tail).group(0)\n",
    "    new_df['mode'] = re.search(r'^[A-z]*[0-9]*([A-z]*)',tail).group(1)\n",
    "    # print(new_df.head())\n",
    "    if \"Alone\" is not in i: \n",
    "        pd.concat([training_data ,new_df])\n",
    "\n",
    "pd.drop(\" # hands\")\n",
    "pd.drop(\" Hand Type\")"
   ]
  },
  {
   "cell_type": "code",
   "execution_count": 3,
   "metadata": {},
   "outputs": [
    {
     "name": "stdout",
     "output_type": "stream",
     "text": [
      "['datasets\\\\Validation\\\\Itiel Lab\\\\Itiel636770937431610843Spontan.csv', 'datasets\\\\Validation\\\\Itiel Lab\\\\Itiel636770938584048459Sync.csv', 'datasets\\\\Validation\\\\Itiel Lab\\\\Itiel636770939529673940Alone.csv', 'datasets\\\\Validation\\\\Itiel Lab\\\\Itiel636770940701219076Spontan.csv', 'datasets\\\\Validation\\\\Itiel Lab\\\\Itiel636770941638547912Sync.csv', 'datasets\\\\Validation\\\\Itiel Lab\\\\Itiel636770942529041679Alone.csv', 'datasets\\\\Validation\\\\Mor SHerman\\\\Mor636771064635567065Spontan.csv', 'datasets\\\\Validation\\\\Mor SHerman\\\\Mor636771065531910215Sync.csv', 'datasets\\\\Validation\\\\Mor SHerman\\\\Mor636771066407626524Alone.csv', 'datasets\\\\Validation\\\\Oded Medina\\\\Oded636754665152715825Alone.csv', 'datasets\\\\Validation\\\\Oded Medina\\\\Oded636754667262994505Spontan.csv', 'datasets\\\\Validation\\\\Oded Medina\\\\Oded636754668465917901Sync.csv', 'datasets\\\\Validation\\\\Oded Medina\\\\Oded636754669540564461Alone.csv', 'datasets\\\\Validation\\\\Oded Medina\\\\Oded636754670490266956Spontan.csv', 'datasets\\\\Validation\\\\Oded Medina\\\\Oded636754671560850581Sync.csv']\n"
     ]
    }
   ],
   "source": [
    "names = glob.glob('datasets\\Validation\\*\\*')\n",
    "print(names)\n",
    "testing_data  = pd.DataFrame(data=pd.read_csv(names[0]))\n",
    "del names[0]\n",
    "for i in names:\n",
    "    new_df = pd.read_csv(i)\n",
    "    head, tail = os.path.split(i)\n",
    "    new_df['name'] = re.search(r'^[A-z]*',tail).group(0)\n",
    "    new_df['mode'] = re.search(r'^[A-z]*[0-9]*([A-z]*)',tail).group(1)\n",
    "    #print(new_df.head())\n",
    "    pd.concat([testing_data ,new_df])"
   ]
  },
  {
   "cell_type": "code",
   "execution_count": null,
   "metadata": {},
   "outputs": [],
   "source": []
  },
  {
   "cell_type": "code",
   "execution_count": null,
   "metadata": {},
   "outputs": [],
   "source": []
  },
  {
   "cell_type": "code",
   "execution_count": null,
   "metadata": {},
   "outputs": [],
   "source": []
  }
 ],
 "metadata": {
  "kernelspec": {
   "display_name": "Python 3",
   "language": "python",
   "name": "python3"
  },
  "language_info": {
   "codemirror_mode": {
    "name": "ipython",
    "version": 3
   },
   "file_extension": ".py",
   "mimetype": "text/x-python",
   "name": "python",
   "nbconvert_exporter": "python",
   "pygments_lexer": "ipython3",
   "version": "3.7.1"
  }
 },
 "nbformat": 4,
 "nbformat_minor": 2
}
