{
 "cells": [
  {
   "cell_type": "code",
   "execution_count": 1,
   "metadata": {},
   "outputs": [],
   "source": [
    "import pandas as pd\n",
    "import numpy as np\n",
    "import sklearn\n",
    "import seaborn as sns\n",
    "from sklearn.decomposition import PCA\n",
    "from scipy import stats\n",
    "from sklearn.model_selection import train_test_split\n",
    "from sklearn.ensemble import AdaBoostClassifier\n",
    "from sklearn.metrics import confusion_matrix\n",
    "from sklearn.metrics import f1_score\n",
    "import matplotlib.pyplot as plt\n",
    "%matplotlib inline\n",
    "import warnings\n",
    "warnings.filterwarnings(\"ignore\")"
   ]
  },
  {
   "cell_type": "code",
   "execution_count": 2,
   "metadata": {},
   "outputs": [
    {
     "name": "stdout",
     "output_type": "stream",
     "text": [
      "         Date Location  MinTemp  MaxTemp  Rainfall  Evaporation  Sunshine  \\\n",
      "0  2008-12-01   Albury     13.4     22.9       0.6          NaN       NaN   \n",
      "1  2008-12-02   Albury      7.4     25.1       0.0          NaN       NaN   \n",
      "2  2008-12-03   Albury     12.9     25.7       0.0          NaN       NaN   \n",
      "3  2008-12-04   Albury      9.2     28.0       0.0          NaN       NaN   \n",
      "4  2008-12-05   Albury     17.5     32.3       1.0          NaN       NaN   \n",
      "\n",
      "  WindGustDir  WindGustSpeed WindDir9am      ...      Humidity3pm  \\\n",
      "0           W           44.0          W      ...             22.0   \n",
      "1         WNW           44.0        NNW      ...             25.0   \n",
      "2         WSW           46.0          W      ...             30.0   \n",
      "3          NE           24.0         SE      ...             16.0   \n",
      "4           W           41.0        ENE      ...             33.0   \n",
      "\n",
      "   Pressure9am  Pressure3pm  Cloud9am  Cloud3pm  Temp9am  Temp3pm  RainToday  \\\n",
      "0       1007.7       1007.1       8.0       NaN     16.9     21.8         No   \n",
      "1       1010.6       1007.8       NaN       NaN     17.2     24.3         No   \n",
      "2       1007.6       1008.7       NaN       2.0     21.0     23.2         No   \n",
      "3       1017.6       1012.8       NaN       NaN     18.1     26.5         No   \n",
      "4       1010.8       1006.0       7.0       8.0     17.8     29.7         No   \n",
      "\n",
      "   RISK_MM  RainTomorrow  \n",
      "0      0.0            No  \n",
      "1      0.0            No  \n",
      "2      0.0            No  \n",
      "3      1.0            No  \n",
      "4      0.2            No  \n",
      "\n",
      "[5 rows x 24 columns]\n"
     ]
    }
   ],
   "source": [
    "my_csv = pd.read_csv(\"weatherAUS.csv\")\n",
    "print(my_csv.head())"
   ]
  },
  {
   "cell_type": "code",
   "execution_count": 3,
   "metadata": {},
   "outputs": [
    {
     "name": "stdout",
     "output_type": "stream",
     "text": [
      "No     0.775819\n",
      "Yes    0.224181\n",
      "Name: RainTomorrow, dtype: float64\n",
      "<class 'pandas.core.series.Series'>\n"
     ]
    },
    {
     "data": {
      "text/plain": [
       "<matplotlib.axes._subplots.AxesSubplot at 0x2612d7c4240>"
      ]
     },
     "execution_count": 3,
     "metadata": {},
     "output_type": "execute_result"
    },
    {
     "data": {
      "image/png": "[encoded data removed]",
      "text/plain": [
       "<Figure size 432x288 with 1 Axes>"
      ]
     },
     "metadata": {
      "needs_background": "light"
     },
     "output_type": "display_data"
    }
   ],
   "source": [
    "print(my_csv['RainTomorrow'].value_counts(normalize=True))\n",
    "my_csv['RainTomorrow'].value_counts(normalize=True).plot(kind='bar')\n",
    "# As we can see, if the model just guesses 'No' all the time, the success rate would be about 77.5% (model 0) "
   ]
  },
  {
   "cell_type": "markdown",
   "metadata": {},
   "source": [
    "Data Processing:"
   ]
  },
  {
   "cell_type": "code",
   "execution_count": 4,
   "metadata": {},
   "outputs": [
    {
     "name": "stdout",
     "output_type": "stream",
     "text": [
      "Sunshine          74377\n",
      "Evaporation       81350\n",
      "Cloud3pm          85099\n",
      "Cloud9am          88536\n",
      "Pressure9am      128179\n",
      "Pressure3pm      128212\n",
      "WindDir9am       132180\n",
      "WindGustDir      132863\n",
      "WindGustSpeed    132923\n",
      "WindDir3pm       138415\n",
      "Humidity3pm      138583\n",
      "Temp3pm          139467\n",
      "WindSpeed3pm     139563\n",
      "Humidity9am      140419\n",
      "RainToday        140787\n",
      "Rainfall         140787\n",
      "WindSpeed9am     140845\n",
      "Temp9am          141289\n",
      "MinTemp          141556\n",
      "MaxTemp          141871\n",
      "Date             142193\n",
      "Location         142193\n",
      "RISK_MM          142193\n",
      "RainTomorrow     142193\n",
      "dtype: int64\n"
     ]
    }
   ],
   "source": [
    "print(my_csv.count().sort_values())"
   ]
  },
  {
   "cell_type": "markdown",
   "metadata": {},
   "source": [
    "As we can see the Sunshine, Evaporation, Cloud3pm and Cloud9am dont have many values in them(Less then 60%) so i will ignore them.\n"
   ]
  },
  {
   "cell_type": "code",
   "execution_count": 5,
   "metadata": {},
   "outputs": [],
   "source": [
    "my_csv = my_csv.drop(columns=['Sunshine', 'Evaporation', 'Cloud3pm', 'Cloud9am', 'Location', 'RISK_MM', 'Date'], axis=1)"
   ]
  },
  {
   "cell_type": "code",
   "execution_count": 6,
   "metadata": {},
   "outputs": [
    {
     "name": "stdout",
     "output_type": "stream",
     "text": [
      "(142193, 17)\n"
     ]
    }
   ],
   "source": [
    "print(my_csv.shape)"
   ]
  },
  {
   "cell_type": "code",
   "execution_count": 7,
   "metadata": {},
   "outputs": [],
   "source": [
    "my_csv = my_csv.dropna(how='any')"
   ]
  },
  {
   "cell_type": "markdown",
   "metadata": {},
   "source": [
    "Removing the outliers"
   ]
  },
  {
   "cell_type": "code",
   "execution_count": 8,
   "metadata": {},
   "outputs": [
    {
     "name": "stdout",
     "output_type": "stream",
     "text": [
      "[[0.11756741 0.10822071 0.20666127 ... 1.14245477 0.08843526 0.04787026]\n",
      " [0.84180219 0.20684494 0.27640495 ... 1.04184813 0.04122846 0.31776848]\n",
      " [0.03761995 0.29277194 0.27640495 ... 0.91249673 0.55672435 0.15688743]\n",
      " ...\n",
      " [1.44940294 0.23548728 0.27640495 ... 0.58223051 1.03257127 0.34701958]\n",
      " [1.16159206 0.46462594 0.27640495 ... 0.25166583 0.78080166 0.58102838]\n",
      " [0.77784422 0.4789471  0.27640495 ... 0.2085487  0.37167606 0.56640283]]\n",
      "        MinTemp  MaxTemp  Rainfall WindGustDir  WindGustSpeed WindDir9am  \\\n",
      "0          13.4     22.9       0.6           W           44.0          W   \n",
      "1           7.4     25.1       0.0         WNW           44.0        NNW   \n",
      "2          12.9     25.7       0.0         WSW           46.0          W   \n",
      "3           9.2     28.0       0.0          NE           24.0         SE   \n",
      "4          17.5     32.3       1.0           W           41.0        ENE   \n",
      "5          14.6     29.7       0.2         WNW           56.0          W   \n",
      "6          14.3     25.0       0.0           W           50.0         SW   \n",
      "7           7.7     26.7       0.0           W           35.0        SSE   \n",
      "8           9.7     31.9       0.0         NNW           80.0         SE   \n",
      "9          13.1     30.1       1.4           W           28.0          S   \n",
      "10         13.4     30.4       0.0           N           30.0        SSE   \n",
      "11         15.9     21.7       2.2         NNE           31.0         NE   \n",
      "13         12.6     21.0       3.6          SW           44.0          W   \n",
      "15         14.1     20.9       0.0         ENE           22.0        SSW   \n",
      "16         13.5     22.9      16.8           W           63.0          N   \n",
      "17         11.2     22.5      10.6         SSE           43.0        WSW   \n",
      "18          9.8     25.6       0.0         SSE           26.0         SE   \n",
      "19         11.5     29.3       0.0           S           24.0         SE   \n",
      "20         17.1     33.0       0.0          NE           43.0         NE   \n",
      "21         20.5     31.8       0.0         WNW           41.0          W   \n",
      "22         15.3     30.9       0.0           N           33.0        ESE   \n",
      "23         12.6     32.4       0.0           W           43.0          E   \n",
      "24         16.2     33.9       0.0         WSW           35.0         SE   \n",
      "26         20.1     32.7       0.0         WNW           48.0          N   \n",
      "27         19.7     27.2       0.0         WNW           46.0         NW   \n",
      "28         12.5     24.2       1.2         WNW           50.0        WSW   \n",
      "29         12.0     24.4       0.8           W           39.0        WNW   \n",
      "30         11.3     26.5       0.0         WNW           56.0          W   \n",
      "31          9.6     23.9       0.0           W           41.0        WSW   \n",
      "32         10.5     28.8       0.0         SSE           26.0        SSE   \n",
      "...         ...      ...       ...         ...            ...        ...   \n",
      "142162     14.6     26.3       0.0           S           37.0        SSW   \n",
      "142164      9.3     28.0       0.0           W           28.0        SSW   \n",
      "142165      8.0     24.6       0.0           E           33.0         SE   \n",
      "142166     12.7     22.2       0.0           E           37.0          E   \n",
      "142167      9.4     22.7       0.0           E           35.0         SE   \n",
      "142168      5.4     20.5       0.0           E           46.0          E   \n",
      "142169      5.6     19.4       0.0           E           43.0          E   \n",
      "142170      1.5     19.2       0.0           E           37.0        ESE   \n",
      "142171      3.8     19.8       0.0         ENE           39.0        ESE   \n",
      "142172      4.5     18.8       0.0           E           31.0        ESE   \n",
      "142173      4.9     20.7       0.0           E           37.0        ESE   \n",
      "142174      1.2     20.8       0.0           E           43.0        ESE   \n",
      "142175      0.5     21.7       0.0           E           43.0        ESE   \n",
      "142176      4.0     20.0       0.0          SE           39.0        ESE   \n",
      "142177      3.4     19.8       0.0           E           43.0        ESE   \n",
      "142178      3.2     18.6       0.0           E           46.0        ESE   \n",
      "142179      2.4     19.1       0.0           E           33.0         SE   \n",
      "142180      5.1     19.7       0.0           E           46.0        ESE   \n",
      "142181      2.5     21.2       0.0         ENE           35.0        ESE   \n",
      "142182      2.3     21.4       0.0          SE           22.0         SE   \n",
      "142183      2.6     22.5       0.0           S           19.0          S   \n",
      "142184      5.2     24.3       0.0           E           24.0         SE   \n",
      "142185      6.4     23.4       0.0         ESE           31.0          S   \n",
      "142186      8.0     20.7       0.0         ESE           41.0         SE   \n",
      "142187      7.4     20.6       0.0           E           35.0        ESE   \n",
      "142188      3.5     21.8       0.0           E           31.0        ESE   \n",
      "142189      2.8     23.4       0.0           E           31.0         SE   \n",
      "142190      3.6     25.3       0.0         NNW           22.0         SE   \n",
      "142191      5.4     26.9       0.0           N           37.0         SE   \n",
      "142192      7.8     27.0       0.0          SE           28.0        SSE   \n",
      "\n",
      "       WindDir3pm  WindSpeed9am  WindSpeed3pm  Humidity9am  Humidity3pm  \\\n",
      "0             WNW          20.0          24.0         71.0         22.0   \n",
      "1             WSW           4.0          22.0         44.0         25.0   \n",
      "2             WSW          19.0          26.0         38.0         30.0   \n",
      "3               E          11.0           9.0         45.0         16.0   \n",
      "4              NW           7.0          20.0         82.0         33.0   \n",
      "5               W          19.0          24.0         55.0         23.0   \n",
      "6               W          20.0          24.0         49.0         19.0   \n",
      "7               W           6.0          17.0         48.0         19.0   \n",
      "8              NW           7.0          28.0         42.0          9.0   \n",
      "9             SSE          15.0          11.0         58.0         27.0   \n",
      "10            ESE          17.0           6.0         48.0         22.0   \n",
      "11            ENE          15.0          13.0         89.0         91.0   \n",
      "13            SSW          24.0          20.0         65.0         43.0   \n",
      "15              E          11.0           9.0         69.0         82.0   \n",
      "16            WNW           6.0          20.0         80.0         65.0   \n",
      "17             SW          24.0          17.0         47.0         32.0   \n",
      "18            NNW          17.0           6.0         45.0         26.0   \n",
      "19             SE           9.0           9.0         56.0         28.0   \n",
      "20              N          17.0          22.0         38.0         28.0   \n",
      "21              W          19.0          20.0         54.0         24.0   \n",
      "22             NW           6.0          13.0         55.0         23.0   \n",
      "23              W           4.0          19.0         49.0         17.0   \n",
      "24            WSW           9.0          13.0         45.0         19.0   \n",
      "26            WNW          13.0          30.0         56.0         15.0   \n",
      "27            WSW          19.0          30.0         49.0         22.0   \n",
      "28             SW          11.0          22.0         78.0         70.0   \n",
      "29            WNW          17.0          17.0         48.0         28.0   \n",
      "30            WNW          19.0          31.0         46.0         26.0   \n",
      "31            SSW          19.0          11.0         44.0         22.0   \n",
      "32              E          11.0           7.0         43.0         22.0   \n",
      "...           ...           ...           ...          ...          ...   \n",
      "142162          S          19.0          20.0         61.0         36.0   \n",
      "142164        WNW           6.0          11.0         36.0         16.0   \n",
      "142165        ESE          11.0          13.0         46.0         25.0   \n",
      "142166        ESE          19.0          13.0         59.0         34.0   \n",
      "142167          E          13.0          17.0         62.0         32.0   \n",
      "142168          E          20.0          28.0         56.0         32.0   \n",
      "142169        ESE          22.0          24.0         61.0         22.0   \n",
      "142170        ESE          17.0          22.0         45.0         18.0   \n",
      "142171          E          19.0          17.0         42.0         22.0   \n",
      "142172          E          13.0          15.0         42.0         26.0   \n",
      "142173        ESE          17.0          24.0         38.0         11.0   \n",
      "142174          E          13.0          28.0         29.0          6.0   \n",
      "142175        ENE          13.0          20.0         27.0         19.0   \n",
      "142176        ESE          13.0          26.0         58.0         26.0   \n",
      "142177          E          19.0          24.0         54.0         23.0   \n",
      "142178          E          15.0          20.0         56.0         29.0   \n",
      "142179          E          17.0          17.0         59.0         24.0   \n",
      "142180          E          13.0          17.0         56.0         29.0   \n",
      "142181          E          17.0          19.0         57.0         32.0   \n",
      "142182        SSE          11.0           7.0         60.0         28.0   \n",
      "142183          E           9.0           7.0         59.0         24.0   \n",
      "142184          E          11.0          11.0         53.0         24.0   \n",
      "142185        ESE          15.0          17.0         53.0         25.0   \n",
      "142186          E          19.0          26.0         56.0         32.0   \n",
      "142187          E          15.0          17.0         63.0         33.0   \n",
      "142188          E          15.0          13.0         59.0         27.0   \n",
      "142189        ENE          13.0          11.0         51.0         24.0   \n",
      "142190          N          13.0           9.0         56.0         21.0   \n",
      "142191        WNW           9.0           9.0         53.0         24.0   \n",
      "142192          N          13.0           7.0         51.0         24.0   \n",
      "\n",
      "        Pressure9am  Pressure3pm  Temp9am  Temp3pm RainToday RainTomorrow  \n",
      "0            1007.7       1007.1     16.9     21.8        No           No  \n",
      "1            1010.6       1007.8     17.2     24.3        No           No  \n",
      "2            1007.6       1008.7     21.0     23.2        No           No  \n",
      "3            1017.6       1012.8     18.1     26.5        No           No  \n",
      "4            1010.8       1006.0     17.8     29.7        No           No  \n",
      "5            1009.2       1005.4     20.6     28.9        No           No  \n",
      "6            1009.6       1008.2     18.1     24.6        No           No  \n",
      "7            1013.4       1010.1     16.3     25.5        No           No  \n",
      "8            1008.9       1003.6     18.3     30.2        No          Yes  \n",
      "9            1007.0       1005.7     20.1     28.2       Yes           No  \n",
      "10           1011.8       1008.7     20.4     28.8        No          Yes  \n",
      "11           1010.5       1004.2     15.9     17.0       Yes          Yes  \n",
      "13           1001.2       1001.8     15.8     19.8       Yes           No  \n",
      "15           1012.2       1010.4     17.2     18.1        No          Yes  \n",
      "16           1005.8       1002.2     18.0     21.5       Yes          Yes  \n",
      "17           1009.4       1009.7     15.5     21.0       Yes           No  \n",
      "18           1019.2       1017.1     15.8     23.2        No           No  \n",
      "19           1019.3       1014.8     19.1     27.3        No           No  \n",
      "20           1013.6       1008.1     24.5     31.6        No           No  \n",
      "21           1007.8       1005.7     23.8     30.8        No           No  \n",
      "22           1011.0       1008.2     20.9     29.0        No           No  \n",
      "23           1012.9       1010.1     21.5     31.2        No           No  \n",
      "24           1010.9       1007.6     23.2     33.0        No           No  \n",
      "26           1005.2       1001.7     24.6     32.1        No           No  \n",
      "27           1004.8       1004.2     21.6     26.1        No          Yes  \n",
      "28           1005.6       1003.4     12.5     18.2       Yes           No  \n",
      "29           1006.1       1005.1     16.9     22.7        No           No  \n",
      "30           1004.5       1003.2     19.7     25.7        No           No  \n",
      "31           1014.4       1013.1     14.9     22.1        No           No  \n",
      "32           1018.7       1014.8     17.1     26.5        No           No  \n",
      "...             ...          ...      ...      ...       ...          ...  \n",
      "142162       1022.0       1018.6     15.4     25.0        No           No  \n",
      "142164       1019.9       1016.9     16.6     27.3        No           No  \n",
      "142165       1021.7       1018.8     13.8     23.5        No           No  \n",
      "142166       1024.3       1021.7     13.9     21.0        No           No  \n",
      "142167       1026.6       1023.6     11.8     22.3        No           No  \n",
      "142168       1029.2       1025.3     11.1     20.2        No           No  \n",
      "142169       1029.6       1027.1      9.7     18.3        No           No  \n",
      "142170       1030.7       1026.7      6.8     17.6        No           No  \n",
      "142171       1028.7       1024.1      8.6     18.9        No           No  \n",
      "142172       1026.9       1022.4      9.5     18.6        No           No  \n",
      "142173       1027.1       1023.9     10.3     19.8        No           No  \n",
      "142174       1029.8       1025.9      7.9     19.9        No           No  \n",
      "142175       1029.0       1025.0      9.5     20.5        No           No  \n",
      "142176       1030.2       1026.7      9.1     19.0        No           No  \n",
      "142177       1031.8       1027.7      8.7     18.9        No           No  \n",
      "142178       1031.0       1027.2      8.2     17.4        No           No  \n",
      "142179       1030.0       1026.2      8.0     18.8        No           No  \n",
      "142180       1028.5       1025.8      8.5     19.2        No           No  \n",
      "142181       1027.2       1023.0     10.3     20.3        No           No  \n",
      "142182       1026.9       1022.8      8.9     20.3        No           No  \n",
      "142183       1025.0       1021.4      8.8     22.1        No           No  \n",
      "142184       1023.8       1020.0     12.3     23.3        No           No  \n",
      "142185       1025.8       1023.0     11.2     23.1        No           No  \n",
      "142186       1028.1       1024.3     11.6     20.0        No           No  \n",
      "142187       1027.2       1023.3     11.0     20.3        No           No  \n",
      "142188       1024.7       1021.2      9.4     20.9        No           No  \n",
      "142189       1024.6       1020.3     10.1     22.4        No           No  \n",
      "142190       1023.5       1019.1     10.9     24.5        No           No  \n",
      "142191       1021.0       1016.8     12.5     26.1        No           No  \n",
      "142192       1019.4       1016.5     15.1     26.0        No           No  \n",
      "\n",
      "[107868 rows x 17 columns]\n"
     ]
    }
   ],
   "source": [
    "# Finding the zscore \n",
    "z = np.abs(stats.zscore(my_csv.select_dtypes(include=[np.number])))\n",
    "print(z)\n",
    "# Actually removing the outliers (zscore>3)\n",
    "my_csv = my_csv[(z < 3).all(axis=1)]\n",
    "print(my_csv)"
   ]
  },
  {
   "cell_type": "markdown",
   "metadata": {},
   "source": [
    "Replacing the non numeric values to be able to use them"
   ]
  },
  {
   "cell_type": "code",
   "execution_count": 9,
   "metadata": {},
   "outputs": [],
   "source": [
    "my_csv['RainToday'].replace({'No': 0, 'Yes': 1}, inplace=True)\n",
    "my_csv['RainTomorrow'].replace({'No': 0, 'Yes': 1}, inplace=True)"
   ]
  },
  {
   "cell_type": "code",
   "execution_count": 10,
   "metadata": {},
   "outputs": [
    {
     "name": "stdout",
     "output_type": "stream",
     "text": [
      "['E' 'ENE' 'ESE' 'N' 'NE' 'NNE' 'NNW' 'NW' 'S' 'SE' 'SSE' 'SSW' 'SW' 'W'\n",
      " 'WNW' 'WSW']\n",
      "['E' 'ENE' 'ESE' 'N' 'NE' 'NNE' 'NNW' 'NW' 'S' 'SE' 'SSE' 'SSW' 'SW' 'W'\n",
      " 'WNW' 'WSW']\n",
      "['E' 'ENE' 'ESE' 'N' 'NE' 'NNE' 'NNW' 'NW' 'S' 'SE' 'SSE' 'SSW' 'SW' 'W'\n",
      " 'WNW' 'WSW']\n"
     ]
    }
   ],
   "source": [
    "for col in ['WindGustDir', 'WindDir3pm', 'WindDir9am']:\n",
    "    print(np.unique(my_csv[col]))"
   ]
  },
  {
   "cell_type": "code",
   "execution_count": 11,
   "metadata": {},
   "outputs": [
    {
     "name": "stdout",
     "output_type": "stream",
     "text": [
      "   MinTemp  MaxTemp  Rainfall  WindGustSpeed  WindSpeed9am  WindSpeed3pm  \\\n",
      "0     13.4     22.9       0.6           44.0          20.0          24.0   \n",
      "1      7.4     25.1       0.0           44.0           4.0          22.0   \n",
      "2     12.9     25.7       0.0           46.0          19.0          26.0   \n",
      "3      9.2     28.0       0.0           24.0          11.0           9.0   \n",
      "4     17.5     32.3       1.0           41.0           7.0          20.0   \n",
      "\n",
      "   Humidity9am  Humidity3pm  Pressure9am  Pressure3pm       ...        \\\n",
      "0         71.0         22.0       1007.7       1007.1       ...         \n",
      "1         44.0         25.0       1010.6       1007.8       ...         \n",
      "2         38.0         30.0       1007.6       1008.7       ...         \n",
      "3         45.0         16.0       1017.6       1012.8       ...         \n",
      "4         82.0         33.0       1010.8       1006.0       ...         \n",
      "\n",
      "   WindDir9am_NNW  WindDir9am_NW  WindDir9am_S  WindDir9am_SE  WindDir9am_SSE  \\\n",
      "0               0              0             0              0               0   \n",
      "1               1              0             0              0               0   \n",
      "2               0              0             0              0               0   \n",
      "3               0              0             0              1               0   \n",
      "4               0              0             0              0               0   \n",
      "\n",
      "   WindDir9am_SSW  WindDir9am_SW  WindDir9am_W  WindDir9am_WNW  WindDir9am_WSW  \n",
      "0               0              0             1               0               0  \n",
      "1               0              0             0               0               0  \n",
      "2               0              0             1               0               0  \n",
      "3               0              0             0               0               0  \n",
      "4               0              0             0               0               0  \n",
      "\n",
      "[5 rows x 62 columns]\n"
     ]
    }
   ],
   "source": [
    "my_csv = pd.get_dummies(my_csv, columns=['WindGustDir', 'WindDir3pm', 'WindDir9am'])\n",
    "print(my_csv.head())"
   ]
  },
  {
   "cell_type": "markdown",
   "metadata": {},
   "source": [
    "Using pca to determine the n best classifiers (to dercrease runtime and improve accuracy)"
   ]
  },
  {
   "cell_type": "code",
   "execution_count": 21,
   "metadata": {},
   "outputs": [
    {
     "name": "stdout",
     "output_type": "stream",
     "text": [
      "        MinTemp  MaxTemp  Rainfall  WindGustSpeed  WindSpeed9am  WindSpeed3pm  \\\n",
      "7219        2.7     17.1       0.0           22.0           9.0           9.0   \n",
      "113225     16.9     34.5       0.0           56.0          20.0          20.0   \n",
      "80443      14.2     22.7       0.0           43.0          19.0          22.0   \n",
      "62534      16.2     21.7       0.4           43.0          19.0          28.0   \n",
      "109970     14.6     21.4       0.8           69.0          24.0          30.0   \n",
      "\n",
      "        Humidity9am  Humidity3pm  Pressure9am  Pressure3pm       ...        \\\n",
      "7219           50.0         31.0       1027.4       1024.0       ...         \n",
      "113225         33.0         13.0       1021.0       1016.8       ...         \n",
      "80443          65.0         46.0       1016.8       1015.2       ...         \n",
      "62534          70.0         60.0       1008.9       1011.1       ...         \n",
      "109970         83.0         61.0       1004.3       1001.8       ...         \n",
      "\n",
      "        WindDir9am_NNW  WindDir9am_NW  WindDir9am_S  WindDir9am_SE  \\\n",
      "7219                 0              0             0              0   \n",
      "113225               0              0             0              0   \n",
      "80443                0              0             0              0   \n",
      "62534                0              0             0              0   \n",
      "109970               1              0             0              0   \n",
      "\n",
      "        WindDir9am_SSE  WindDir9am_SSW  WindDir9am_SW  WindDir9am_W  \\\n",
      "7219                 0               0              0             0   \n",
      "113225               0               0              0             0   \n",
      "80443                1               0              0             0   \n",
      "62534                0               1              0             0   \n",
      "109970               0               0              0             0   \n",
      "\n",
      "        WindDir9am_WNW  WindDir9am_WSW  \n",
      "7219                 0               0  \n",
      "113225               0               0  \n",
      "80443                0               0  \n",
      "62534                0               0  \n",
      "109970               0               0  \n",
      "\n",
      "[5 rows x 61 columns]\n",
      "        RainTomorrow\n",
      "7219               0\n",
      "113225             0\n",
      "80443              0\n",
      "62534              0\n",
      "109970             1\n",
      "        MinTemp  MaxTemp  Rainfall  WindGustSpeed  WindSpeed9am  WindSpeed3pm  \\\n",
      "55871       8.1     24.5       0.0           48.0           6.0          24.0   \n",
      "49258       7.8     16.9       3.4           33.0          11.0          20.0   \n",
      "80069      14.9     19.0       0.0           46.0          28.0          26.0   \n",
      "99178       7.8     17.0       0.0           33.0          15.0          19.0   \n",
      "118653     15.8     32.5       0.0           46.0           9.0          20.0   \n",
      "\n",
      "        Humidity9am  Humidity3pm  Pressure9am  Pressure3pm       ...        \\\n",
      "55871          78.0         35.0       1014.7       1012.0       ...         \n",
      "49258          95.0         52.0       1010.0       1007.9       ...         \n",
      "80069          72.0         57.0       1017.3       1021.3       ...         \n",
      "99178          81.0         67.0       1027.8       1024.4       ...         \n",
      "118653         49.0         38.0       1008.9       1005.8       ...         \n",
      "\n",
      "        WindDir9am_NNW  WindDir9am_NW  WindDir9am_S  WindDir9am_SE  \\\n",
      "55871                0              0             0              0   \n",
      "49258                1              0             0              0   \n",
      "80069                0              0             0              0   \n",
      "99178                0              0             0              1   \n",
      "118653               0              0             0              1   \n",
      "\n",
      "        WindDir9am_SSE  WindDir9am_SSW  WindDir9am_SW  WindDir9am_W  \\\n",
      "55871                0               0              0             0   \n",
      "49258                0               0              0             0   \n",
      "80069                0               0              0             0   \n",
      "99178                0               0              0             0   \n",
      "118653               0               0              0             0   \n",
      "\n",
      "        WindDir9am_WNW  WindDir9am_WSW  \n",
      "55871                0               0  \n",
      "49258                0               0  \n",
      "80069                0               1  \n",
      "99178                0               0  \n",
      "118653               0               0  \n",
      "\n",
      "[5 rows x 61 columns]\n",
      "        RainTomorrow\n",
      "55871              0\n",
      "49258              0\n",
      "80069              0\n",
      "99178              0\n",
      "118653             0\n"
     ]
    }
   ],
   "source": [
    "X = my_csv.loc[:, my_csv.columns != 'RainTomorrow']\n",
    "y = my_csv[['RainTomorrow']]\n",
    "X_train, X_test, y_train, y_test = train_test_split(X, y, test_size=0.2, random_state=0)"
   ]
  },
  {
   "cell_type": "code",
   "execution_count": 13,
   "metadata": {},
   "outputs": [
    {
     "name": "stdout",
     "output_type": "stream",
     "text": [
      "(107868, 62)\n",
      "[5.25740274e-01 1.85071051e-01 1.06495815e-01 8.04299404e-02\n",
      " 3.77649046e-02 2.49740614e-02 2.06199055e-02 9.81905022e-03\n",
      " 4.47101588e-03 1.14460807e-03 9.46160731e-04 3.78596336e-04\n",
      " 9.40954775e-05 8.41570176e-05 7.92286425e-05 7.18637679e-05\n",
      " 6.96701878e-05 6.39391731e-05 6.23300956e-05 6.03539143e-05\n",
      " 5.74601856e-05 5.61402523e-05 5.54646807e-05 5.42215628e-05\n",
      " 5.38432305e-05 5.22055042e-05 5.19364300e-05 5.08763341e-05\n",
      " 4.98329976e-05 4.95042765e-05 4.90436378e-05 4.84387609e-05\n",
      " 4.64768101e-05 4.54518995e-05 4.54124809e-05 4.49655171e-05\n",
      " 4.47250240e-05 4.39946734e-05 4.32371237e-05 4.24943055e-05\n",
      " 4.24144379e-05 4.18216733e-05 4.16828490e-05 3.99472437e-05\n",
      " 3.89921861e-05 3.80888544e-05 3.67550195e-05 3.65036551e-05\n",
      " 3.56088973e-05 3.51672887e-05 3.12240902e-05 3.02706290e-05\n",
      " 2.81684873e-05 2.39611401e-05 2.31867930e-05 2.24653809e-05\n",
      " 1.40079346e-05 1.29859628e-05 1.03683987e-31 2.76431849e-33\n",
      " 2.31854495e-35]\n"
     ]
    },
    {
     "data": {
      "text/plain": [
       "[<matplotlib.lines.Line2D at 0x2612dc7c048>]"
      ]
     },
     "execution_count": 13,
     "metadata": {},
     "output_type": "execute_result"
    },
    {
     "data": {
      "image/png": "[encoded data removed]",
      "text/plain": [
       "<Figure size 432x288 with 1 Axes>"
      ]
     },
     "metadata": {
      "needs_background": "light"
     },
     "output_type": "display_data"
    }
   ],
   "source": [
    "print(my_csv.shape)\n",
    "pca_visual = PCA()\n",
    "X_train_visual = pca_visual.fit_transform(X_train)\n",
    "X_test_visual = pca_visual.transform(X_test)\n",
    "fit_visual = pca_visual.fit(X)\n",
    "print(fit_visual.explained_variance_ratio_)\n",
    "plt.plot(fit_visual.explained_variance_ratio_)"
   ]
  },
  {
   "cell_type": "raw",
   "metadata": {},
   "source": [
    "As we can see in the graph above the features pca rating goes to zero and so I will use the best 4 features"
   ]
  },
  {
   "cell_type": "code",
   "execution_count": 14,
   "metadata": {},
   "outputs": [
    {
     "name": "stdout",
     "output_type": "stream",
     "text": [
      "[0.52574027 0.18507105 0.10649581 0.08042994]\n"
     ]
    }
   ],
   "source": [
    "pca = PCA(n_components=4)\n",
    "X_train = pca.fit_transform(X_train)\n",
    "X_test = pca.transform(X_test)\n",
    "fit = pca.fit(X)\n",
    "# summarize components\n",
    "print(fit.explained_variance_ratio_)"
   ]
  },
  {
   "cell_type": "markdown",
   "metadata": {},
   "source": [
    "Adaboosting algorithem"
   ]
  },
  {
   "cell_type": "code",
   "execution_count": 15,
   "metadata": {},
   "outputs": [
    {
     "data": {
      "text/plain": [
       "[<matplotlib.lines.Line2D at 0x2612dc58908>]"
      ]
     },
     "execution_count": 15,
     "metadata": {},
     "output_type": "execute_result"
    },
    {
     "data": {
      "image/png": "[encoded data removed]",
      "text/plain": [
       "<Figure size 432x288 with 1 Axes>"
      ]
     },
     "metadata": {
      "needs_background": "light"
     },
     "output_type": "display_data"
    }
   ],
   "source": [
    "visual_arr = []\n",
    "for i in range(1,100):\n",
    "    adaboost_visual = AdaBoostClassifier(n_estimators=i, base_estimator= None,learning_rate=1, random_state = 1)\n",
    "    adaboost_visual.fit(X_train,y_train)\n",
    "    y_pred_visual = adaboost_visual.predict(X_test)\n",
    "    cm = confusion_matrix(y_test,y_pred_visual)\n",
    "    accuracy = float(cm.diagonal().sum())/len(y_test)\n",
    "    visual_arr.append(accuracy)\n",
    "plt.plot(visual_arr)"
   ]
  },
  {
   "cell_type": "code",
   "execution_count": 16,
   "metadata": {},
   "outputs": [
    {
     "data": {
      "text/plain": [
       "AdaBoostClassifier(algorithm='SAMME.R', base_estimator=None, learning_rate=1,\n",
       "          n_estimators=100, random_state=1)"
      ]
     },
     "execution_count": 16,
     "metadata": {},
     "output_type": "execute_result"
    }
   ],
   "source": [
    "adaboost = AdaBoostClassifier(n_estimators=100, base_estimator= None,learning_rate=1, random_state = 1)\n",
    "adaboost.fit(X_train,y_train)"
   ]
  },
  {
   "cell_type": "code",
   "execution_count": 17,
   "metadata": {},
   "outputs": [
    {
     "name": "stdout",
     "output_type": "stream",
     "text": [
      "\n",
      "Accuracy Of AdaBoost For The Given Dataset :  0.8440252155372208\n",
      "\n",
      "F-score wighted :  0.8288045636537805\n"
     ]
    }
   ],
   "source": [
    "y_pred = adaboost.predict(X_test)\n",
    "cm = confusion_matrix(y_test,y_pred)\n",
    "accuracy = float(cm.diagonal().sum())/len(y_test)\n",
    "print(\"\\nAccuracy Of AdaBoost For The Given Dataset : \", accuracy)\n",
    "print(\"\\nF-score wighted : \", f1_score(y_test,y_pred,average='weighted'))"
   ]
  },
  {
   "cell_type": "markdown",
   "metadata": {},
   "source": [
    "The adaboosting algorithem gives us a better result then the 0 nodel by about 8% (~84 to ~77)"
   ]
  }
 ],
 "metadata": {
  "kernelspec": {
   "display_name": "Python 3",
   "language": "python",
   "name": "python3"
  },
  "language_info": {
   "codemirror_mode": {
    "name": "ipython",
    "version": 3
   },
   "file_extension": ".py",
   "mimetype": "text/x-python",
   "name": "python",
   "nbconvert_exporter": "python",
   "pygments_lexer": "ipython3",
   "version": "3.7.1"
  }
 },
 "nbformat": 4,
 "nbformat_minor": 2
}
